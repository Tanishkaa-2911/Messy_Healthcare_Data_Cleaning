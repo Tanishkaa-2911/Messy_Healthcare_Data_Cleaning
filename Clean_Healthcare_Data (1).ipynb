{
 "cells": [
  {
   "cell_type": "code",
   "execution_count": null,
   "id": "14e4ee0e-5256-4bca-9a2f-91db5e3cb6b7",
   "metadata": {},
   "outputs": [],
   "source": [
    "#Importing pandas library\n",
    "import pandas as pd"
   ]
  },
  {
   "cell_type": "code",
   "execution_count": null,
   "id": "02214ed2-7bf2-4080-96e8-dbc3813418e9",
   "metadata": {},
   "outputs": [],
   "source": [
    "#Reading Messy dataset\n",
    "ds=pd.read_csv(\"messy_healthcare_data.csv\")"
   ]
  },
  {
   "cell_type": "code",
   "execution_count": null,
   "id": "8e7dd337-738b-493b-8d7f-209f227e2628",
   "metadata": {},
   "outputs": [],
   "source": [
    "#Checking Information\n",
    "ds.info()"
   ]
  },
  {
   "cell_type": "code",
   "execution_count": null,
   "id": "58625558-90e5-4fb7-8988-9ae733c1c044",
   "metadata": {},
   "outputs": [],
   "source": [
    "#Describing Dataset\n",
    "ds.describe()"
   ]
  },
  {
   "cell_type": "code",
   "execution_count": null,
   "id": "3440a856-5925-42ac-b8c5-ba9f02864132",
   "metadata": {},
   "outputs": [],
   "source": [
    "#Dropping Rows which does not contain patient_ID\n",
    "ds=ds.dropna(subset=['Patient_ID'])"
   ]
  },
  {
   "cell_type": "code",
   "execution_count": null,
   "id": "9cff13dc-77bc-464c-827a-9b9a130b3b4b",
   "metadata": {},
   "outputs": [],
   "source": [
    "print(ds.to_string())"
   ]
  },
  {
   "cell_type": "code",
   "execution_count": null,
   "id": "4795b793-add0-4c67-9547-641d157a68e7",
   "metadata": {},
   "outputs": [],
   "source": [
    "#Handling Invalid Values in Full_Name column\n",
    "ds['Full_Name'].replace(['12345'],'Unknown',inplace=True)"
   ]
  },
  {
   "cell_type": "code",
   "execution_count": null,
   "id": "c4158a18-0dc4-46ce-8c4f-8ccb2d22968c",
   "metadata": {},
   "outputs": [],
   "source": [
    "#Converting DOB column into correct datetime format\n",
    "ds['DOB']=pd.to_datetime(ds['DOB'],errors='coerce')"
   ]
  },
  {
   "cell_type": "code",
   "execution_count": null,
   "id": "8a631d6b-6105-411e-a0b5-beec35668ab5",
   "metadata": {},
   "outputs": [],
   "source": [
    "#Handling Height_cm column by replacing values\n",
    "ds['Height_cm'].replace({'?':'NaN','one seventy':'170'},inplace=True)\n"
   ]
  },
  {
   "cell_type": "code",
   "execution_count": null,
   "id": "9d130078-7c1f-457c-8ccb-162362d23e12",
   "metadata": {},
   "outputs": [],
   "source": [
    "#Handling Weight_kg column by replacing values\n",
    "ds['Weight_kg'].replace(['eighty'],'80',inplace=True)"
   ]
  },
  {
   "cell_type": "code",
   "execution_count": null,
   "id": "f84aefbd-fd9c-4e4e-9c91-79450b14625d",
   "metadata": {},
   "outputs": [],
   "source": [
    "#Replacing values for correct formatting\n",
    "\n",
    "ds['Smoker_Status'].replace({'Y':'Yes','N':'No','Unknown':'NaN'},inplace=True)"
   ]
  },
  {
   "cell_type": "code",
   "execution_count": null,
   "id": "77c0e1fe-de6d-4e31-b761-5cb61d1dba22",
   "metadata": {},
   "outputs": [],
   "source": [
    "#Handling values using NaN\n",
    "ds['Allergies'].replace(['123'],'NaN',inplace=True)"
   ]
  },
  {
   "cell_type": "code",
   "execution_count": null,
   "id": "1fdd47a5-bf8c-49c1-934c-9ae4c730bcb0",
   "metadata": {},
   "outputs": [],
   "source": [
    "#Handling values using NaN\n",
    "ds['Medications'].replace(['12345','Unknown'],'NaN',inplace=True)"
   ]
  },
  {
   "cell_type": "code",
   "execution_count": null,
   "id": "2be1b6b7-ee06-4ef5-9ad1-acf667ff3e9f",
   "metadata": {},
   "outputs": [],
   "source": [
    "#Converting column into correct datetime format\n",
    "ds['Visit_Date']=pd.to_datetime(ds['Visit_Date'],format='mixed',errors='coerce')"
   ]
  },
  {
   "cell_type": "code",
   "execution_count": null,
   "id": "0ae144b2-4db9-4fdd-bbeb-aa6d5c1eab52",
   "metadata": {},
   "outputs": [],
   "source": [
    "print(ds.to_string())"
   ]
  },
  {
   "cell_type": "code",
   "execution_count": 2,
   "id": "00c69a44-d16d-4bab-b232-be7103c7c796",
   "metadata": {},
   "outputs": [
    {
     "ename": "NameError",
     "evalue": "name 'ds' is not defined",
     "output_type": "error",
     "traceback": [
      "\u001b[31m---------------------------------------------------------------------------\u001b[39m",
      "\u001b[31mNameError\u001b[39m                                 Traceback (most recent call last)",
      "\u001b[36mCell\u001b[39m\u001b[36m \u001b[39m\u001b[32mIn[2]\u001b[39m\u001b[32m, line 1\u001b[39m\n\u001b[32m----> \u001b[39m\u001b[32m1\u001b[39m \u001b[43mds\u001b[49m.to_csv(\u001b[33m'\u001b[39m\u001b[33mCleaned Healthcare Data\u001b[39m\u001b[33m'\u001b[39m)\n",
      "\u001b[31mNameError\u001b[39m: name 'ds' is not defined"
     ]
    }
   ],
   "source": [
    "ds.to_csv('Cleaned Healthcare Data')"
   ]
  },
  {
   "cell_type": "code",
   "execution_count": null,
   "id": "d041e4d1-e9b2-4760-91f1-9d8f0eced326",
   "metadata": {},
   "outputs": [],
   "source": []
  }
 ],
 "metadata": {
  "kernelspec": {
   "display_name": "Python 3 (ipykernel)",
   "language": "python",
   "name": "python3"
  },
  "language_info": {
   "codemirror_mode": {
    "name": "ipython",
    "version": 3
   },
   "file_extension": ".py",
   "mimetype": "text/x-python",
   "name": "python",
   "nbconvert_exporter": "python",
   "pygments_lexer": "ipython3",
   "version": "3.13.3"
  }
 },
 "nbformat": 4,
 "nbformat_minor": 5
}
